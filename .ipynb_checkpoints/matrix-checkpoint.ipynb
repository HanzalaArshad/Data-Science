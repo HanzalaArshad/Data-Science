{
 "cells": [
  {
   "cell_type": "code",
   "execution_count": 3,
   "id": "11f043f9-a229-4b42-b38a-b148adbfe7a4",
   "metadata": {},
   "outputs": [
    {
     "name": "stdout",
     "output_type": "stream",
     "text": [
      "[[0 1 2]\n",
      " [2 3 4]]\n"
     ]
    }
   ],
   "source": [
    "# matrix\n",
    "import numpy as np\n",
    "\n",
    "array = np.array([[0, 1, 2], [2, 3, 4]])\n",
    "print(array)\n"
   ]
  },
  {
   "cell_type": "code",
   "execution_count": 2,
   "id": "e44de16e-08a0-4bbe-b1ee-4db4a88f4a8f",
   "metadata": {},
   "outputs": [
    {
     "name": "stdout",
     "output_type": "stream",
     "text": [
      "[[0. 0.]\n",
      " [0. 0.]\n",
      " [0. 0.]\n",
      " [0. 0.]]\n"
     ]
    }
   ],
   "source": [
    "#  zero matrix\n",
    "\n",
    "import numpy as np\n",
    "\n",
    "array = np.zeros((4,2))\n",
    "print(array)\n"
   ]
  },
  {
   "cell_type": "code",
   "execution_count": 3,
   "id": "025a7411-f50b-4c4f-b760-d3629ce134af",
   "metadata": {},
   "outputs": [
    {
     "name": "stdout",
     "output_type": "stream",
     "text": [
      "[2]\n"
     ]
    }
   ],
   "source": [
    "# singeleton matrix\n",
    "\n",
    "import numpy as np\n",
    "\n",
    "array = np.array([2])\n",
    "print(array)\n"
   ]
  },
  {
   "cell_type": "code",
   "execution_count": 5,
   "id": "d3d8219e-551f-4fc6-8541-25bbd73e746d",
   "metadata": {},
   "outputs": [
    {
     "name": "stdout",
     "output_type": "stream",
     "text": [
      "[ 0  5 10]\n"
     ]
    }
   ],
   "source": [
    "# row matrix\n",
    "import numpy as np\n",
    "\n",
    "array = np.arange(0,11,5)\n",
    "print(array)\n",
    "\n",
    "\n"
   ]
  },
  {
   "cell_type": "code",
   "execution_count": 8,
   "id": "2e79e531-7609-4afc-873f-e10386c05da5",
   "metadata": {},
   "outputs": [
    {
     "name": "stdout",
     "output_type": "stream",
     "text": [
      "[[2]\n",
      " [3]\n",
      " [4]]\n"
     ]
    }
   ],
   "source": [
    "# column matrix\n",
    "\n",
    "import numpy as np\n",
    "\n",
    "array = np.array([[2],[3],[4]])\n",
    "print(array)\n"
   ]
  },
  {
   "cell_type": "code",
   "execution_count": 14,
   "id": "1eaccb4c-613a-485f-8c14-c78814092938",
   "metadata": {},
   "outputs": [
    {
     "name": "stdout",
     "output_type": "stream",
     "text": [
      "[[2 3 2]]\n"
     ]
    }
   ],
   "source": [
    "# Rectangular array m!=n \n",
    "import numpy as np\n",
    "\n",
    "array = np.array([[2,3,2]])\n",
    "print(array)\n"
   ]
  },
  {
   "cell_type": "code",
   "execution_count": 15,
   "id": "9dcfdb28-36cf-4dd0-9d0d-cc55baa30ec7",
   "metadata": {},
   "outputs": [
    {
     "name": "stdout",
     "output_type": "stream",
     "text": [
      "[[2 3]\n",
      " [4 3]]\n"
     ]
    }
   ],
   "source": [
    "# squre matrix m=n\n",
    "import numpy as np\n",
    "\n",
    "array = np.array([[2,3],[4,3]])\n",
    "print(array)\n",
    "\n",
    "\n",
    "\n",
    "\n"
   ]
  },
  {
   "cell_type": "code",
   "execution_count": 16,
   "id": "88e76016-3fe0-4e4d-9002-cc8de3ea3f40",
   "metadata": {},
   "outputs": [
    {
     "name": "stdout",
     "output_type": "stream",
     "text": [
      "[[2 0 0]\n",
      " [0 5 0]\n",
      " [0 0 9]]\n"
     ]
    }
   ],
   "source": [
    "# diagonal matrix\n",
    "import numpy as np\n",
    "\n",
    "# Define the diagonal elements\n",
    "diagonal_elements = [2, 5, 9]\n",
    "\n",
    "# Create the diagonal matrix\n",
    "diagonal_matrix = np.diag(diagonal_elements)\n",
    "\n",
    "print(diagonal_matrix)\n",
    "\n"
   ]
  },
  {
   "cell_type": "code",
   "execution_count": 17,
   "id": "ed460fae-b060-43b7-b749-7332c8c7bf47",
   "metadata": {},
   "outputs": [
    {
     "name": "stdout",
     "output_type": "stream",
     "text": [
      "[[5. 0. 0.]\n",
      " [0. 5. 0.]\n",
      " [0. 0. 5.]]\n"
     ]
    }
   ],
   "source": [
    "# scalar matrix\n",
    "import numpy as np\n",
    "\n",
    "# Define the scalar value\n",
    "scalar_value = 5\n",
    "\n",
    "# Create the scalar matrix\n",
    "scalar_matrix = scalar_value * np.eye(3)\n",
    "\n",
    "print(scalar_matrix)\n"
   ]
  },
  {
   "cell_type": "code",
   "execution_count": 19,
   "id": "1821dc64-1ac9-467e-a1e3-327f4ba20b1c",
   "metadata": {},
   "outputs": [
    {
     "name": "stdout",
     "output_type": "stream",
     "text": [
      "[[1. 0. 0.]\n",
      " [0. 1. 0.]\n",
      " [0. 0. 1.]]\n"
     ]
    }
   ],
   "source": [
    "#identity matrix \n",
    "\n",
    "import numpy as np\n",
    "\n",
    "array = np.eye(3)\n",
    "\n",
    "print(array)\n"
   ]
  },
  {
   "cell_type": "code",
   "execution_count": 22,
   "id": "7935badf-2b74-4dea-b763-5ef880a820e3",
   "metadata": {},
   "outputs": [
    {
     "name": "stdout",
     "output_type": "stream",
     "text": [
      "[[3 3 4]\n",
      " [0 4 5]\n",
      " [0 0 5]]\n"
     ]
    }
   ],
   "source": [
    "\n",
    "# upper triangular matrix\n",
    "import numpy as np\n",
    "\n",
    "array= np.array([[3,3,4],[0,4,5],[0,0,5]])\n",
    "\n",
    "\n",
    "\n",
    "print(array)\n"
   ]
  },
  {
   "cell_type": "code",
   "execution_count": 24,
   "id": "ade8a958-cdc5-463c-ba34-ff4b9abecf8a",
   "metadata": {},
   "outputs": [
    {
     "data": {
      "text/plain": [
       "array([[1, 0, 0],\n",
       "       [4, 5, 0],\n",
       "       [7, 8, 9]])"
      ]
     },
     "execution_count": 24,
     "metadata": {},
     "output_type": "execute_result"
    }
   ],
   "source": [
    "# lower triangular matrix\n",
    "\n",
    "import numpy as np\n",
    "\n",
    "array = np.array([[1, 0, 0], [4, 5, 0], [7, 8, 9]])\n",
    "\n",
    "array\n",
    "\n",
    "\n"
   ]
  }
 ],
 "metadata": {
  "kernelspec": {
   "display_name": "Python 3 (ipykernel)",
   "language": "python",
   "name": "python3"
  },
  "language_info": {
   "codemirror_mode": {
    "name": "ipython",
    "version": 3
   },
   "file_extension": ".py",
   "mimetype": "text/x-python",
   "name": "python",
   "nbconvert_exporter": "python",
   "pygments_lexer": "ipython3",
   "version": "3.11.7"
  }
 },
 "nbformat": 4,
 "nbformat_minor": 5
}
